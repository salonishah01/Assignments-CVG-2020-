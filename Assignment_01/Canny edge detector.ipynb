{
 "cells": [
  {
   "cell_type": "code",
   "execution_count": 1,
   "metadata": {},
   "outputs": [],
   "source": [
    "#Import required libraries\n",
    "import cv2\n",
    "import numpy as np\n",
    "import math"
   ]
  },
  {
   "cell_type": "code",
   "execution_count": 2,
   "metadata": {},
   "outputs": [],
   "source": [
    "def horizontalEdge(img):\n",
    "    \n",
    "    patch = [[-1,-2,-1],[0,0,0],[1,2,1]]        #Sobel horizontal edge detection filter\n",
    "    patch = np.array(patch)                     # convert the patch to an array\n",
    "\n",
    "    patch_size = [3,3]                          #define patch size \n",
    "    img_shape = img.shape                       #image size\n",
    "\n",
    "    output_matrix = np.zeros([img_shape[0]-2, img_shape[1]-2])  #If image is of size m*n and patch p*q the resultanat of convoluton is of size m-p+1 * n-q+1\n",
    "    for i in range(img_shape[0]-2):\n",
    "        for j in range(img_shape[1]-2):\n",
    "            output = np.zeros(patch_size)       #define a output patch\n",
    "            for k in range(patch_size[0]):\n",
    "                for m in range(patch_size[1]):\n",
    "                    output[k,m]=img[i+k,j+m]    #to extract an output patch\n",
    "            temp = np.sum(patch*output)         # calculate the sum of product of the output patch with the sobel edge detection filter\n",
    "            temp = temp/8                       #Normalisation\n",
    "            output_matrix[i,j]=temp\n",
    "    return output_matrix"
   ]
  },
  {
   "cell_type": "code",
   "execution_count": 3,
   "metadata": {},
   "outputs": [],
   "source": [
    "def verticalEdge(img):\n",
    "    \n",
    "    patch = [[1,0,-1],[2,0,-2],[1,0,-1]]        #Sobel vertical edge detection filter\n",
    "    patch = np.array(patch)                     # convert the patch to an array\n",
    "\n",
    "    patch_size = [3,3]                          #define patch size\n",
    "    img_shape = img.shape                       #image size\n",
    "\n",
    "    output_matrix = np.zeros([img_shape[0]-2, img_shape[1]-2])  #If image is of size m*n and patch p*q the resultanat of convoluton is of size m-p+1 * n-q+1\n",
    "    for i in range(img_shape[0]-2):\n",
    "        for j in range(img_shape[1]-2):\n",
    "            output = np.zeros(patch_size)       #define a output patch\n",
    "            for k in range(patch_size[0]):\n",
    "                for m in range(patch_size[1]):\n",
    "                    output[k,m]=img[i+k,j+m]    #to extract an output patch\n",
    "            temp = np.sum(patch*output)         # calculate the sum of product of the output patch with the sobel edge detection filter\n",
    "            temp = temp/8                       #Normalisation\n",
    "            output_matrix[i,j]=temp\n",
    "    return output_matrix"
   ]
  },
  {
   "cell_type": "code",
   "execution_count": 4,
   "metadata": {},
   "outputs": [],
   "source": [
    "def laplacian(img):\n",
    "    patch = [[0, 1, 0], [1, -4, 1], [0, 1 ,0]]  #Laplacian kernel\n",
    "    patch = np.array(patch)                     # convert the patch to an array\n",
    "\n",
    "    patch_size = [3,3]                           #define patch size\n",
    "    img_shape = img.shape                        #image size\n",
    "\n",
    "    output_matrix = np.zeros([img_shape[0]-2, img_shape[1]-2])  #If image is of size m*n and patch p*q the resultanat of convoluton is of size m-p+1 * n-q+1\n",
    "    for i in range(img_shape[0]-2):\n",
    "        for j in range(img_shape[1]-2):\n",
    "            output = np.zeros(patch_size)       #define a output patch\n",
    "            for k in range(patch_size[0]):\n",
    "                for m in range(patch_size[1]):\n",
    "                    output[k,m]=img[i+k,j+m]    #to extract an output patch\n",
    "            temp = np.sum(patch*output)      # calculate the sum of product of the output patch with the laplacian kernel\n",
    "            temp = temp/1     #Normalisation\n",
    "            output_matrix[i,j]=temp\n",
    "    return output_matrix\n",
    "    "
   ]
  },
  {
   "cell_type": "code",
   "execution_count": 5,
   "metadata": {},
   "outputs": [],
   "source": [
    "def hysteresis(img, low=0.04, high=0.09):  #the high and low values are set deciding tradeoffs. Can vary.\n",
    "    \n",
    "    highT = img.max() * high;           #find the value for higher threshold. img.max will give the maximum intensity value in the image which when multiplied by the high argument value gives higher threshold\n",
    "    lowT = highT * low;                 #find the value for lower threshold. Higher threshold multiplied by the low argument gives lower threshold\n",
    "    #These threshold values can be set without any above calculations as some random values.\n",
    "    \n",
    "    M, N = img.shape                   #img size\n",
    "    res = np.zeros((M,N), dtype=np.int32)   #array of the original image size\n",
    "    \n",
    "    weak = np.int32(25)\n",
    "    strong = np.int32(255)\n",
    "    \n",
    "    strong_i, strong_j = np.where(img >= highT)   #indices with values greater than the higher threshold\n",
    "    zeros_i, zeros_j = np.where(img < lowT)       #indices with values less than lower threshold.\n",
    "    \n",
    "    weak_i, weak_j = np.where((img <= highT) & (img >= lowT))   #indices with values in between the lower and higher threshold\n",
    "    \n",
    "    res[strong_i, strong_j] = strong                #make all the indices with value greater than threshold = strong \n",
    "    res[weak_i, weak_j] = weak                      #make all the indices with value between the thresholds = weak \n",
    "    \n",
    "    \n",
    "    #check for the 8-neighbours of a weak pixel, if any one pixel in 8-neighbourhood is strong make it strong.\n",
    "    for i in range(1, M-1):\n",
    "        for j in range(1, N-1):\n",
    "            if (res[i,j] == weak):\n",
    "                    if ((res[i+1, j-1] == strong) or (res[i+1, j] == strong) or (res[i+1, j+1] == strong)\n",
    "                        or (res[i, j-1] == strong) or (res[i, j+1] == strong)\n",
    "                        or (res[i-1, j-1] == strong) or (res[i-1, j] == strong) or (res[i-1, j+1] == strong)):\n",
    "                        img[i, j] = strong\n",
    "                    else:\n",
    "                        img[i, j] = 0\n",
    "    \n",
    "    \n",
    "    return res"
   ]
  },
  {
   "cell_type": "code",
   "execution_count": 6,
   "metadata": {},
   "outputs": [
    {
     "data": {
      "text/plain": [
       "True"
      ]
     },
     "execution_count": 6,
     "metadata": {},
     "output_type": "execute_result"
    }
   ],
   "source": [
    "#Read Image\n",
    "I = cv2.imread('einstein.jfif',0)\n",
    "\n",
    "# Call for edge detection filter function\n",
    "Gx = horizontalEdge(I)\n",
    "\n",
    "# Call for edge detection filter function\n",
    "Gy = verticalEdge(Gx)\n",
    "\n",
    "#Call for laplacian function\n",
    "Laplacian_output = laplacian(Gy)\n",
    "\n",
    "\n",
    "\n",
    "#Call for hysteresis\n",
    "final_img = hysteresis(Laplacian_output)\n",
    "\n",
    "cv2.imwrite('canny.png', final_img)\n",
    "\n"
   ]
  },
  {
   "cell_type": "code",
   "execution_count": null,
   "metadata": {},
   "outputs": [],
   "source": []
  }
 ],
 "metadata": {
  "kernelspec": {
   "display_name": "Python 3",
   "language": "python",
   "name": "python3"
  },
  "language_info": {
   "codemirror_mode": {
    "name": "ipython",
    "version": 3
   },
   "file_extension": ".py",
   "mimetype": "text/x-python",
   "name": "python",
   "nbconvert_exporter": "python",
   "pygments_lexer": "ipython3",
   "version": "3.8.3"
  }
 },
 "nbformat": 4,
 "nbformat_minor": 4
}
