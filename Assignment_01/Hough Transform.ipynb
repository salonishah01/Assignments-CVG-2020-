{
 "cells": [
  {
   "cell_type": "code",
   "execution_count": 1,
   "metadata": {},
   "outputs": [],
   "source": [
    "from matplotlib import pyplot as plt\n",
    "import numpy as np\n",
    "import math\n",
    "import cv2"
   ]
  },
  {
   "cell_type": "code",
   "execution_count": 2,
   "metadata": {},
   "outputs": [],
   "source": [
    "def hough_transform(edge):\n",
    "    \n",
    "    theta = np.arange(0, 180, 1)     # Theta 0 - 180 degree\n",
    "    cos = np.cos(np.deg2rad(theta))  # Calculate 'cos' and 'sin' value \n",
    "    sin = np.sin(np.deg2rad(theta))\n",
    "\n",
    "    # Generate a matrix to store the values\n",
    "    rho_ = round(math.sqrt(edge.shape[0]**2 + edge.shape[1]**2))  \n",
    "    matrix = np.zeros((2 * rho_, len(theta)), dtype=np.uint8)\n",
    "\n",
    "    # Threshold to get edges pixel location (x,y)\n",
    "    edge_ = np.where(edge == 255)    #edge points can be detected; after canny edge detection, the pixels with value 255 are the ones which are eddge points, rest all points are 0.\n",
    "    indices = list(zip(edge_[0], edge_[1]))  #make a list of all the edge indices\n",
    "\n",
    "    # Calculate rho value for each edge location (x,y) with all the theta range\n",
    "    for p in range(len(indices)):\n",
    "        for t in range(len(theta)):\n",
    "            rho = int(round(indices[p][1] * cos[t] + indices[p][0] * sin[t]))  #rho = y * cos(t) + x *sin(t)\n",
    "            matrix[rho, t] += 1 #to increment the no of lines with corresponding rho and t.\n",
    "\n",
    "    return matrix"
   ]
  },
  {
   "cell_type": "code",
   "execution_count": 4,
   "metadata": {},
   "outputs": [
    {
     "data": {
      "text/plain": [
       "True"
      ]
     },
     "execution_count": 4,
     "metadata": {},
     "output_type": "execute_result"
    }
   ],
   "source": [
    "# read image then convert to grayscale and find the edges by Canny Edge Detection\n",
    "image = cv2.imread('sudoku.png',0)\n",
    "edges = cv2.Canny(image,50,150)\n",
    "cv2.imshow('Laplacian', edges)\n",
    "cv2.waitKey(0)\n",
    "cv2.destroyAllWindows()\n",
    "\n",
    "    # Function to do hough line transform\n",
    "matrix = hough_transform(edges)\n",
    "\n",
    "    # Threshold some high values then draw the line\n",
    "edge_ = np.where(matrix > 100)    #I have considered the threshold to be 100. Returns a list of all the edges with values above threshols\n",
    "indices = list(zip(edge_[0], edge_[1]))\n",
    "\n",
    "    # Use line equation to draw detected line on an original image\n",
    "for i in range(0, len(indices)):\n",
    "    \n",
    "    #parametric form of straight line is x = x0 + r * cos(t), y = y0 + r * sin(t)\n",
    "    x0 = np.cos(np.deg2rad(indices[i][1]))*indices[i][0]   #calculating r * cos(t)\n",
    "    y0 = np.sin(np.deg2rad(indices[i][1]))*indices[i][0]   #calculating r * sin(t)\n",
    "    # find x1,y1 and x2,y2 to draw lines. 1500 is multiplied just to scale the line\n",
    "    x1 = int(x0 + 1500 * (-np.sin(np.deg2rad(indices[i][1]))))\n",
    "    y1 = int(y0 + 1500 * (np.cos(np.deg2rad(indices[i][1]))))\n",
    "    x2 = int(x0 - 1500 * (-np.sin(np.deg2rad(indices[i][1]))))\n",
    "    y2 = int(y0 - 1500 * (np.cos(np.deg2rad(indices[i][1]))))\n",
    "\n",
    "    cv2.line(image,(x1,y1),(x2,y2),(0,255,0),1) #cv2.line(img, (initial coordinates), (end coordinates), (color), thickness)\n",
    "\n",
    "    \n",
    "cv2.imwrite('Hough.png', image) #save image"
   ]
  },
  {
   "cell_type": "code",
   "execution_count": null,
   "metadata": {},
   "outputs": [],
   "source": []
  }
 ],
 "metadata": {
  "kernelspec": {
   "display_name": "Python 3",
   "language": "python",
   "name": "python3"
  },
  "language_info": {
   "codemirror_mode": {
    "name": "ipython",
    "version": 3
   },
   "file_extension": ".py",
   "mimetype": "text/x-python",
   "name": "python",
   "nbconvert_exporter": "python",
   "pygments_lexer": "ipython3",
   "version": "3.8.3"
  }
 },
 "nbformat": 4,
 "nbformat_minor": 4
}
