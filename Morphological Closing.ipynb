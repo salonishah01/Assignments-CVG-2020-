{
 "cells": [
  {
   "cell_type": "code",
   "execution_count": 1,
   "metadata": {},
   "outputs": [],
   "source": [
    "#dilation follwed by erosion"
   ]
  },
  {
   "cell_type": "code",
   "execution_count": 2,
   "metadata": {},
   "outputs": [],
   "source": [
    "#Import required libraries\n",
    "import cv2\n",
    "import numpy as np\n",
    "import copy"
   ]
  },
  {
   "cell_type": "code",
   "execution_count": 3,
   "metadata": {},
   "outputs": [],
   "source": [
    "def dilation(img):\n",
    "\n",
    "    patch_size = [5,5]\n",
    "    img_shape = img.shape\n",
    "    I = copy.deepcopy(img)\n",
    "    for i in range(img_shape[0]-(patch_size[0]-1)):\n",
    "        for j in range(img_shape[1]-(patch_size[1]-1)):\n",
    "            output = np.zeros(patch_size)\n",
    "            for k in range(patch_size[0]):\n",
    "                for m in range(patch_size[1]):\n",
    "                    output[k,m]=img[i+k,j+m]\n",
    "            z = np.sum(output)\n",
    "            if z >0:                                 #If any one pixel is white(255) then the sum will be more than 0\n",
    "                for k in range(patch_size[0]):       #If condition true, make all the pixeld in that patch 0/\n",
    "                    for m in range(patch_size[1]):\n",
    "                        I[i+k, j+m] = 255\n",
    "                \n",
    "    return I"
   ]
  },
  {
   "cell_type": "code",
   "execution_count": 4,
   "metadata": {},
   "outputs": [],
   "source": [
    "def erosion(img):\n",
    "\n",
    "    patch_size = [5,5]\n",
    "    img_shape = img.shape\n",
    "    I = copy.deepcopy(img)\n",
    "    for i in range(img_shape[0]-(patch_size[0]-1)):\n",
    "        for j in range(img_shape[1]-(patch_size[1]-1)):\n",
    "            output = np.zeros(patch_size)\n",
    "            for k in range(patch_size[0]):\n",
    "                for m in range(patch_size[1]):\n",
    "                    output[k,m]=img[i+k,j+m]\n",
    "            z = np.sum(output)\n",
    "            if z < patch_size[0] * patch_size[1] * 255:  #If any one pixel is black(0) then the sum will be less than patch_size[0]*patch_size[1]*255\n",
    "                for k in range(patch_size[0]):       #If condition true, make all the pixeld in that patch 0/\n",
    "                    for m in range(patch_size[1]):\n",
    "                        I[i+k, j+m] = 0\n",
    "                \n",
    "    return I"
   ]
  },
  {
   "cell_type": "code",
   "execution_count": 5,
   "metadata": {},
   "outputs": [],
   "source": [
    "def thresholding(I):\n",
    "    I_shape = I.shape\n",
    "    for i in range(I_shape[0]):\n",
    "        for j in range(I_shape[1]):\n",
    "            if(I[i,j]>127):    #If pixel value is greater than 127 change it to 255 else 0. 127 is just a number I considered to be threshold, can be any other number\n",
    "                I[i,j] = 255\n",
    "            else:\n",
    "                I[i,j] = 0\n",
    "    return I"
   ]
  },
  {
   "cell_type": "code",
   "execution_count": 6,
   "metadata": {},
   "outputs": [],
   "source": [
    "#Read Image\n",
    "I = cv2.imread('dilation_input.png',0)\n",
    "\n",
    "#Call for thresholding function - To convert the image into black and white\n",
    "I = thresholding(I)\n",
    "\n",
    "# Call for dilation function\n",
    "output_matrix = dilation(I)\n",
    "\n",
    "\n",
    "# Call for erosion function\n",
    "output_matrix = erosion(output_matrix)"
   ]
  },
  {
   "cell_type": "code",
   "execution_count": 7,
   "metadata": {},
   "outputs": [
    {
     "data": {
      "text/plain": [
       "True"
      ]
     },
     "execution_count": 7,
     "metadata": {},
     "output_type": "execute_result"
    }
   ],
   "source": [
    "cv2.imwrite('closing_output.png', output_matrix) "
   ]
  }
 ],
 "metadata": {
  "kernelspec": {
   "display_name": "Python 3",
   "language": "python",
   "name": "python3"
  },
  "language_info": {
   "codemirror_mode": {
    "name": "ipython",
    "version": 3
   },
   "file_extension": ".py",
   "mimetype": "text/x-python",
   "name": "python",
   "nbconvert_exporter": "python",
   "pygments_lexer": "ipython3",
   "version": "3.8.3"
  }
 },
 "nbformat": 4,
 "nbformat_minor": 4
}
