{
 "cells": [
  {
   "cell_type": "code",
   "execution_count": 1,
   "metadata": {},
   "outputs": [],
   "source": [
    "#The median filter is a non-linear digital filtering technique, often used to remove noise from an image or signal. \n",
    "#Such noise reduction is a typical pre-processing step to improve the results of later processing."
   ]
  },
  {
   "cell_type": "code",
   "execution_count": 2,
   "metadata": {},
   "outputs": [],
   "source": [
    "#Import required libraries\n",
    "import cv2\n",
    "import numpy as np"
   ]
  },
  {
   "cell_type": "code",
   "execution_count": 3,
   "metadata": {},
   "outputs": [],
   "source": [
    "def median_filtering(img):\n",
    "    \n",
    "    patch_size = [3,3]\n",
    "    img_shape = img.shape\n",
    "\n",
    "    output_matrix = np.zeros([img_shape[0]-2, img_shape[1]-2])  #If image is of size m*n and patch p*q the resultanat of convoluton is of size m-p+1 * n-q+1\n",
    "    for i in range(img_shape[0]-3):\n",
    "        for j in range(img_shape[1]-3):\n",
    "            output = np.zeros(patch_size)\n",
    "            for k in range(patch_size[0]):\n",
    "                for m in range(patch_size[1]):\n",
    "                    output[k,m]=img[i+k,j+m]\n",
    "            temp = np.median(output)\n",
    "            output_matrix[i+1,j+1]=temp\n",
    "    return output_matrix"
   ]
  },
  {
   "cell_type": "code",
   "execution_count": 4,
   "metadata": {},
   "outputs": [],
   "source": [
    "#Read Image\n",
    "I = cv2.imread('Added_salt_pepper_noise.jpg',0)\n",
    " \n",
    "# Call for medianfiltering function\n",
    "output_matrix = median_filtering(I)"
   ]
  },
  {
   "cell_type": "code",
   "execution_count": 5,
   "metadata": {},
   "outputs": [
    {
     "data": {
      "text/plain": [
       "True"
      ]
     },
     "execution_count": 5,
     "metadata": {},
     "output_type": "execute_result"
    }
   ],
   "source": [
    "output_matrix = np.uint8(output_matrix) #Convert the resultant to uint8\n",
    "cv2.imwrite('Meadin_Filtering.png', output_matrix)  # Save the averaged image"
   ]
  },
  {
   "cell_type": "code",
   "execution_count": null,
   "metadata": {},
   "outputs": [],
   "source": []
  }
 ],
 "metadata": {
  "kernelspec": {
   "display_name": "Python 3",
   "language": "python",
   "name": "python3"
  },
  "language_info": {
   "codemirror_mode": {
    "name": "ipython",
    "version": 3
   },
   "file_extension": ".py",
   "mimetype": "text/x-python",
   "name": "python",
   "nbconvert_exporter": "python",
   "pygments_lexer": "ipython3",
   "version": "3.8.3"
  }
 },
 "nbformat": 4,
 "nbformat_minor": 4
}
