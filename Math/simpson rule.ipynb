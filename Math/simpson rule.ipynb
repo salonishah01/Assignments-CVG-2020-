{
 "cells": [
  {
   "cell_type": "code",
   "execution_count": 3,
   "metadata": {},
   "outputs": [
    {
     "name": "stdout",
     "output_type": "stream",
     "text": [
      "Enter lower limit: 0\n",
      "Enter upper limit: 8\n",
      "Enter n: 4\n",
      "14.855493563580854\n"
     ]
    }
   ],
   "source": [
    "import math\n",
    "def func(x):\n",
    "    return math.sqrt(x)\n",
    "\n",
    "x0 = int(input(\"Enter lower limit: \")) #enter lower limit\n",
    "xn = int(input(\"Enter upper limit: \")) #enter upper limit\n",
    "n = int(input(\"Enter n: \"))\n",
    "h = (xn - x0)/n\n",
    "even_sum = 0.0\n",
    "odd_sum = 0.0\n",
    "\n",
    "for i in range(1, n, 2):\n",
    "    odd_sum = odd_sum + func(x0+i*h)\n",
    "    \n",
    "for i in range(2, n, 2):\n",
    "    even_sum = even_sum + func(x0+i*h)\n",
    "result = (h/3)*(4 * odd_sum + 2 * even_sum + func(x0) + func(xn))\n",
    "print(result)\n",
    "    "
   ]
  },
  {
   "cell_type": "code",
   "execution_count": null,
   "metadata": {},
   "outputs": [],
   "source": []
  }
 ],
 "metadata": {
  "kernelspec": {
   "display_name": "Python 3",
   "language": "python",
   "name": "python3"
  },
  "language_info": {
   "codemirror_mode": {
    "name": "ipython",
    "version": 3
   },
   "file_extension": ".py",
   "mimetype": "text/x-python",
   "name": "python",
   "nbconvert_exporter": "python",
   "pygments_lexer": "ipython3",
   "version": "3.8.3"
  }
 },
 "nbformat": 4,
 "nbformat_minor": 4
}
