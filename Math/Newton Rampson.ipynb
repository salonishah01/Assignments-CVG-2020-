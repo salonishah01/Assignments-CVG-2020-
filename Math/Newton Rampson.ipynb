{
 "cells": [
  {
   "cell_type": "code",
   "execution_count": 2,
   "metadata": {},
   "outputs": [
    {
     "name": "stdout",
     "output_type": "stream",
     "text": [
      "0.8672638182088165\n"
     ]
    }
   ],
   "source": [
    "import math\n",
    "\n",
    "def func(x):\n",
    "    return math.cos(x) -math.pow(x, 3)\n",
    "\n",
    "def deri_func(x):\n",
    "    return -math.sin(x) -3*x**2\n",
    "\n",
    "def newton_Rampson(x0):\n",
    "    i = 1\n",
    "    while True:\n",
    "        f = func(x0)\n",
    "        f_d = deri_func(x0)\n",
    "        xn = x0 -(f/f_d)\n",
    "        if i == 4:\n",
    "            break\n",
    "        x0 = xn\n",
    "        i = i + 1\n",
    "    return x0\n",
    "\n",
    "result = newton_Rampson(0.5)\n",
    "print(result)"
   ]
  },
  {
   "cell_type": "code",
   "execution_count": null,
   "metadata": {},
   "outputs": [],
   "source": []
  }
 ],
 "metadata": {
  "kernelspec": {
   "display_name": "Python 3",
   "language": "python",
   "name": "python3"
  },
  "language_info": {
   "codemirror_mode": {
    "name": "ipython",
    "version": 3
   },
   "file_extension": ".py",
   "mimetype": "text/x-python",
   "name": "python",
   "nbconvert_exporter": "python",
   "pygments_lexer": "ipython3",
   "version": "3.8.3"
  }
 },
 "nbformat": 4,
 "nbformat_minor": 4
}
