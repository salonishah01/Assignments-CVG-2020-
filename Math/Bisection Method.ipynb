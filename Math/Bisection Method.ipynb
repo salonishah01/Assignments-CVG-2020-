{
 "cells": [
  {
   "cell_type": "code",
   "execution_count": 5,
   "metadata": {},
   "outputs": [
    {
     "name": "stdout",
     "output_type": "stream",
     "text": [
      "-1.0000032185780583\n"
     ]
    }
   ],
   "source": [
    "import math\n",
    "import numpy as np\n",
    "def func(x):\n",
    "    return x**3 + 1\n",
    "def bisection(xn, yn):\n",
    "    while(np.abs(xn - yn) >= 1e-10):\n",
    "        f_x = func(xn)\n",
    "        c = (xn + yn)/2\n",
    "        f_c = func(c)\n",
    "        \n",
    "        if(f_x * f_c) > 1e-10:\n",
    "            xn = c\n",
    "        elif(f_x * f_c) < 1e-10:\n",
    "            yn = c\n",
    "    return c\n",
    "            \n",
    "result = bisection(-5, 5)\n",
    "print(result)\n",
    "        "
   ]
  },
  {
   "cell_type": "code",
   "execution_count": null,
   "metadata": {},
   "outputs": [],
   "source": []
  }
 ],
 "metadata": {
  "kernelspec": {
   "display_name": "Python 3",
   "language": "python",
   "name": "python3"
  },
  "language_info": {
   "codemirror_mode": {
    "name": "ipython",
    "version": 3
   },
   "file_extension": ".py",
   "mimetype": "text/x-python",
   "name": "python",
   "nbconvert_exporter": "python",
   "pygments_lexer": "ipython3",
   "version": "3.8.3"
  }
 },
 "nbformat": 4,
 "nbformat_minor": 4
}
