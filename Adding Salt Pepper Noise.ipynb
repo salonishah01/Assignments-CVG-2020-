{
 "cells": [
  {
   "cell_type": "code",
   "execution_count": 1,
   "metadata": {},
   "outputs": [],
   "source": [
    "#Salt-and-pepper noise is a form of noise sometimes seen on images. \n",
    "#It is also known as impulse noise. \n",
    "#This noise can be caused by sharp and sudden disturbances in the image signal. \n",
    "#It presents itself as sparsely occurring white and black pixels."
   ]
  },
  {
   "cell_type": "code",
   "execution_count": 2,
   "metadata": {},
   "outputs": [],
   "source": [
    "#Import required libraries\n",
    "import cv2\n",
    "import numpy as np\n",
    "import random"
   ]
  },
  {
   "cell_type": "code",
   "execution_count": 3,
   "metadata": {},
   "outputs": [],
   "source": [
    "def add_SaltPepperNoise(img):\n",
    "    size_I = img.shape\n",
    "\n",
    "    img = np.array(img)\n",
    "\n",
    "    for i in range(1000): #no in bracket depends on how much noise is to be added\n",
    "        x=random.randint(0,size_I[0]-1)\n",
    "        y=random.randint(0,size_I[1]-1)\n",
    "        img[x,y]= random.randint(0,1)*255\n",
    "    return img"
   ]
  },
  {
   "cell_type": "code",
   "execution_count": 4,
   "metadata": {},
   "outputs": [],
   "source": [
    "#Read Image\n",
    "img = cv2.imread('einstein.jfif',0)"
   ]
  },
  {
   "cell_type": "code",
   "execution_count": 5,
   "metadata": {},
   "outputs": [],
   "source": [
    "#Call Function to add noise\n",
    "img = add_SaltPepperNoise(img)"
   ]
  },
  {
   "cell_type": "code",
   "execution_count": 6,
   "metadata": {},
   "outputs": [
    {
     "data": {
      "text/plain": [
       "True"
      ]
     },
     "execution_count": 6,
     "metadata": {},
     "output_type": "execute_result"
    }
   ],
   "source": [
    "cv2.imwrite('Added_salt_pepper_noise.jpg',img) #Write image"
   ]
  },
  {
   "cell_type": "code",
   "execution_count": null,
   "metadata": {},
   "outputs": [],
   "source": []
  }
 ],
 "metadata": {
  "kernelspec": {
   "display_name": "Python 3",
   "language": "python",
   "name": "python3"
  },
  "language_info": {
   "codemirror_mode": {
    "name": "ipython",
    "version": 3
   },
   "file_extension": ".py",
   "mimetype": "text/x-python",
   "name": "python",
   "nbconvert_exporter": "python",
   "pygments_lexer": "ipython3",
   "version": "3.8.3"
  }
 },
 "nbformat": 4,
 "nbformat_minor": 4
}
