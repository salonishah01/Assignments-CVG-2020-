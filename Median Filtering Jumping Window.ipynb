{
 "cells": [
  {
   "cell_type": "code",
   "execution_count": 1,
   "metadata": {},
   "outputs": [],
   "source": [
    "#Import required libraries\n",
    "import cv2\n",
    "import numpy as np"
   ]
  },
  {
   "cell_type": "code",
   "execution_count": 2,
   "metadata": {},
   "outputs": [],
   "source": [
    "def median_filtering(img):\n",
    "    \n",
    "    patch_size = [3,3]\n",
    "    img_shape = img.shape\n",
    "\n",
    "    limit_x = int(img_shape[0]//patch_size[0])\n",
    "    limit_y = int(img_shape[1]//patch_size[1])\n",
    "\n",
    "    output_matrix = np.zeros([limit_x, limit_y])  \n",
    "    for i in range(0, limit_x):\n",
    "        for j in range(0, limit_y):\n",
    "            output = np.zeros(patch_size)\n",
    "            for k in range(patch_size[0]):\n",
    "                for m in range(patch_size[1]):\n",
    "                    output[k,m]=img[i*3+k,j*3+m]\n",
    "            temp = np.median(output)\n",
    "            \n",
    "            output_matrix[i,j]=temp\n",
    "    return output_matrix"
   ]
  },
  {
   "cell_type": "code",
   "execution_count": 3,
   "metadata": {},
   "outputs": [],
   "source": [
    "#Read Image\n",
    "I = cv2.imread('Added_salt_pepper_noise.jpg',0)\n",
    " \n",
    "# Call for medianfiltering function\n",
    "output_matrix = median_filtering(I)"
   ]
  },
  {
   "cell_type": "code",
   "execution_count": 4,
   "metadata": {},
   "outputs": [
    {
     "data": {
      "text/plain": [
       "True"
      ]
     },
     "execution_count": 4,
     "metadata": {},
     "output_type": "execute_result"
    }
   ],
   "source": [
    "output_matrix = np.uint8(output_matrix) #Convert the resultant to uint8\n",
    "cv2.imwrite('Meadin_Filtering_JW.png', output_matrix)  # Save the averaged image"
   ]
  },
  {
   "cell_type": "code",
   "execution_count": null,
   "metadata": {},
   "outputs": [],
   "source": []
  }
 ],
 "metadata": {
  "kernelspec": {
   "display_name": "Python 3",
   "language": "python",
   "name": "python3"
  },
  "language_info": {
   "codemirror_mode": {
    "name": "ipython",
    "version": 3
   },
   "file_extension": ".py",
   "mimetype": "text/x-python",
   "name": "python",
   "nbconvert_exporter": "python",
   "pygments_lexer": "ipython3",
   "version": "3.8.3"
  }
 },
 "nbformat": 4,
 "nbformat_minor": 4
}
