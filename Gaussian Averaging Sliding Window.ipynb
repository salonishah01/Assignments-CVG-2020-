{
 "cells": [
  {
   "cell_type": "code",
   "execution_count": 1,
   "metadata": {},
   "outputs": [],
   "source": [
    "#Image averaging is a digital image processing technique that is often employed to enhance video images \n",
    "#that have been corrupted by random noise. The algorithm operates by computing an average or arithmetic mean\n",
    "#of the intensity values for each pixel position in a set of captured images from the same scene or viewfield.\n",
    "\n",
    "#The Gaussian outputs a `weighted average' of each pixel's neighborhood, with the average weighted more towards\n",
    "#the value of the central pixels.\n",
    "\n",
    "#The effect of Gaussian smoothing is to blur an image"
   ]
  },
  {
   "cell_type": "code",
   "execution_count": 2,
   "metadata": {},
   "outputs": [],
   "source": [
    "\n",
    "#Import required libraries\n",
    "import cv2\n",
    "import numpy as np\n",
    "    "
   ]
  },
  {
   "cell_type": "code",
   "execution_count": 3,
   "metadata": {},
   "outputs": [],
   "source": [
    "\n",
    "def averaging(img):\n",
    "    \n",
    "    patch = [[1,2,1],[2,4,2],[1,2,1]]  #create a gaussian kernel\n",
    "    patch = np.array(patch)   # convert the patch to an array\n",
    "\n",
    "    patch_size = [3,3]\n",
    "    img_shape = img.shape\n",
    "\n",
    "    output_matrix = np.zeros([img_shape[0]-2, img_shape[1]-2])  #If image is of size m*n and patch p*q the resultanat of convoluton is of size m-p+1 * n-q+1\n",
    "    for i in range(img_shape[0]-2):\n",
    "        for j in range(img_shape[1]-2):\n",
    "            output = np.zeros(patch_size)\n",
    "            for k in range(patch_size[0]):\n",
    "                for m in range(patch_size[1]):\n",
    "                    output[k,m]=img[i+k,j+m]\n",
    "            temp = np.sum(patch*output)\n",
    "            temp = temp/9       #Normalisation\n",
    "            output_matrix[i,j]=temp\n",
    "    return output_matrix"
   ]
  },
  {
   "cell_type": "code",
   "execution_count": 4,
   "metadata": {},
   "outputs": [],
   "source": [
    "#Read Image\n",
    "I = cv2.imread('einstein.jfif',0)\n",
    " \n",
    "# Call for Averaging function\n",
    "output_matrix = averaging(I)"
   ]
  },
  {
   "cell_type": "code",
   "execution_count": 5,
   "metadata": {},
   "outputs": [
    {
     "data": {
      "text/plain": [
       "True"
      ]
     },
     "execution_count": 5,
     "metadata": {},
     "output_type": "execute_result"
    }
   ],
   "source": [
    "output_matrix = np.uint8(output_matrix) #Convert the resultant to uint8\n",
    "cv2.imwrite('Gaussian_Averaged_Image.png', output_matrix)  # Save the averaged image"
   ]
  },
  {
   "cell_type": "code",
   "execution_count": null,
   "metadata": {},
   "outputs": [],
   "source": []
  }
 ],
 "metadata": {
  "kernelspec": {
   "display_name": "Python 3",
   "language": "python",
   "name": "python3"
  },
  "language_info": {
   "codemirror_mode": {
    "name": "ipython",
    "version": 3
   },
   "file_extension": ".py",
   "mimetype": "text/x-python",
   "name": "python",
   "nbconvert_exporter": "python",
   "pygments_lexer": "ipython3",
   "version": "3.8.3"
  }
 },
 "nbformat": 4,
 "nbformat_minor": 4
}
